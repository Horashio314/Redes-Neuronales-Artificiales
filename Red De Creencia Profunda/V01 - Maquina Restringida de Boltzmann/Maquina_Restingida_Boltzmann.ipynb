{
 "cells": [
  {
   "cell_type": "markdown",
   "metadata": {},
   "source": [
    "# Funciones de la máquina Boltzmann restringidas para la clasificación de dígitos\n",
    "\n",
    "Para datos de imagen en escala de grises donde los valores de los píxeles se pueden interpretar como grados de negrura sobre un fondo blanco, como el reconocimiento de dígitos manuscritos, el modelo de máquina Boltzmann restringida de Bernoulli (: class: BernoulliRBM <sklearn.neural_network.BernoulliRBM>) puede realizar una extracción efectiva de características no lineales.\n",
    "\n",
    "Con el fin de aprender buenas representaciones latentes de un pequeño conjunto de datos, generamos artificialmente más datos etiquetados perturbando los datos de entrenamiento con cambios lineales de 1 píxel en cada dirección.\n",
    "\n",
    "Este ejemplo muestra cómo construir un canal de clasificación con un extractor de características de BernoulliRBM y una clase: LogisticRegression <sklearn.linear_model.LogisticRegression> clasificador. Los hiperparámetros de todo el modelo (tasa de aprendizaje, tamaño de capa oculto, regularización) se optimizaron mediante la búsqueda en cuadrícula, pero la búsqueda no se reproduce aquí debido a restricciones de tiempo de ejecución.\n",
    "\n",
    "La regresión logística en valores de píxel en bruto se presenta para la comparación. El ejemplo muestra que las características extraídas por el BernoulliRBM ayudan a mejorar la precisión de la clasificación."
   ]
  },
  {
   "cell_type": "markdown",
   "metadata": {},
   "source": [
    "# Importamos la librerías"
   ]
  },
  {
   "cell_type": "code",
   "execution_count": 1,
   "metadata": {},
   "outputs": [],
   "source": [
    "# Authors: Yann N. Dauphin, Vlad Niculae, Gabriel Synnaeve\n",
    "# License: BSD\n",
    "# Adaptado: https://scikit-learn.org/stable/auto_examples/neural_networks/plot_rbm_logistic_classification.html#sphx-glr-auto-examples-neural-networks-plot-rbm-logistic-classification-py\n",
    "\n",
    "import numpy as np\n",
    "import matplotlib.pyplot as plt\n",
    "\n",
    "from scipy.ndimage import convolve\n",
    "from sklearn import linear_model, datasets, metrics\n",
    "from sklearn.model_selection import train_test_split\n",
    "from sklearn.neural_network import BernoulliRBM\n",
    "from sklearn.pipeline import Pipeline\n",
    "from sklearn.base import clone"
   ]
  },
  {
   "cell_type": "markdown",
   "metadata": {},
   "source": [
    "# Definimos los métodos"
   ]
  },
  {
   "cell_type": "code",
   "execution_count": 2,
   "metadata": {},
   "outputs": [],
   "source": [
    "# Configuracion inicial.\n",
    "def nudge_dataset(X, Y):\n",
    "    \"\"\"\n",
    "    Esto produce un conjunto de datos 5 veces más grande que el original, \n",
    "    al mover las imágenes 8x8 en X alrededor de 1px \n",
    "    a la izquierda, derecha, abajo, arriba.\n",
    "    \"\"\"\n",
    "    direction_vectors = [\n",
    "        [[0, 1, 0],\n",
    "         [0, 0, 0],\n",
    "         [0, 0, 0]],\n",
    "\n",
    "        [[0, 0, 0],\n",
    "         [1, 0, 0],\n",
    "         [0, 0, 0]],\n",
    "\n",
    "        [[0, 0, 0],\n",
    "         [0, 0, 1],\n",
    "         [0, 0, 0]],\n",
    "\n",
    "        [[0, 0, 0],\n",
    "         [0, 0, 0],\n",
    "         [0, 1, 0]]]\n",
    "\n",
    "    def shift(x, w):\n",
    "        return convolve(x.reshape((8, 8)), mode='constant', weights=w).ravel()\n",
    "\n",
    "    X = np.concatenate([X] +\n",
    "                       [np.apply_along_axis(shift, 1, X, vector)\n",
    "                        for vector in direction_vectors])\n",
    "    Y = np.concatenate([Y for _ in range(5)], axis=0)\n",
    "    return X, Y"
   ]
  },
  {
   "cell_type": "markdown",
   "metadata": {},
   "source": [
    "# Cargamos los datos que usaremos"
   ]
  },
  {
   "cell_type": "code",
   "execution_count": 3,
   "metadata": {},
   "outputs": [],
   "source": [
    "# Cargamos la data, de la libreria sklearn, los dataset de numeros de 8x8.\n",
    "digits = datasets.load_digits()\n",
    "X = np.asarray(digits.data, 'float32')\n",
    "X, Y = nudge_dataset(X, digits.target)\n",
    "X = (X - np.min(X, 0)) / (np.max(X, 0) + 0.0001)  # 0-1 scaling\n",
    "\n",
    "X_train, X_test, Y_train, Y_test = train_test_split(\n",
    "    X, Y, test_size=0.2, random_state=0)"
   ]
  },
  {
   "cell_type": "markdown",
   "metadata": {},
   "source": [
    "# Creamos el modelo"
   ]
  },
  {
   "cell_type": "code",
   "execution_count": 4,
   "metadata": {},
   "outputs": [],
   "source": [
    "# Creacion del modelo.\n",
    "logistic = linear_model.LogisticRegression(solver='newton-cg', tol=1,\n",
    "                                           multi_class='multinomial')\n",
    "rbm = BernoulliRBM(random_state=0, verbose=True)\n",
    "\n",
    "rbm_features_classifier = Pipeline(\n",
    "    steps=[('rbm', rbm), ('logistic', logistic)])"
   ]
  },
  {
   "cell_type": "markdown",
   "metadata": {},
   "source": [
    "# Entrenamos el modelo"
   ]
  },
  {
   "cell_type": "code",
   "execution_count": 5,
   "metadata": {},
   "outputs": [
    {
     "name": "stdout",
     "output_type": "stream",
     "text": [
      "[BernoulliRBM] Iteration 1, pseudo-likelihood = -25.39, time = 0.35s\n",
      "[BernoulliRBM] Iteration 2, pseudo-likelihood = -23.77, time = 0.55s\n",
      "[BernoulliRBM] Iteration 3, pseudo-likelihood = -22.94, time = 0.58s\n",
      "[BernoulliRBM] Iteration 4, pseudo-likelihood = -21.91, time = 0.55s\n",
      "[BernoulliRBM] Iteration 5, pseudo-likelihood = -21.69, time = 0.53s\n",
      "[BernoulliRBM] Iteration 6, pseudo-likelihood = -21.06, time = 0.52s\n",
      "[BernoulliRBM] Iteration 7, pseudo-likelihood = -20.89, time = 0.51s\n",
      "[BernoulliRBM] Iteration 8, pseudo-likelihood = -20.64, time = 0.66s\n",
      "[BernoulliRBM] Iteration 9, pseudo-likelihood = -20.36, time = 0.52s\n",
      "[BernoulliRBM] Iteration 10, pseudo-likelihood = -20.09, time = 0.63s\n",
      "[BernoulliRBM] Iteration 11, pseudo-likelihood = -20.08, time = 0.53s\n",
      "[BernoulliRBM] Iteration 12, pseudo-likelihood = -19.82, time = 0.52s\n",
      "[BernoulliRBM] Iteration 13, pseudo-likelihood = -19.64, time = 0.86s\n",
      "[BernoulliRBM] Iteration 14, pseudo-likelihood = -19.61, time = 0.52s\n",
      "[BernoulliRBM] Iteration 15, pseudo-likelihood = -19.57, time = 0.69s\n",
      "[BernoulliRBM] Iteration 16, pseudo-likelihood = -19.41, time = 0.51s\n",
      "[BernoulliRBM] Iteration 17, pseudo-likelihood = -19.30, time = 0.72s\n",
      "[BernoulliRBM] Iteration 18, pseudo-likelihood = -19.25, time = 0.51s\n",
      "[BernoulliRBM] Iteration 19, pseudo-likelihood = -19.27, time = 0.51s\n",
      "[BernoulliRBM] Iteration 20, pseudo-likelihood = -19.01, time = 0.60s\n",
      "Regresión logística usando características RBM:\n",
      "              precision    recall  f1-score   support\n",
      "\n",
      "           0       0.98      0.98      0.98       174\n",
      "           1       0.90      0.92      0.91       184\n",
      "           2       0.91      0.95      0.93       166\n",
      "           3       0.96      0.90      0.93       194\n",
      "           4       0.97      0.93      0.95       186\n",
      "           5       0.93      0.94      0.93       181\n",
      "           6       0.99      0.97      0.98       207\n",
      "           7       0.92      0.99      0.95       154\n",
      "           8       0.90      0.88      0.89       182\n",
      "           9       0.91      0.93      0.92       169\n",
      "\n",
      "    accuracy                           0.94      1797\n",
      "   macro avg       0.94      0.94      0.94      1797\n",
      "weighted avg       0.94      0.94      0.94      1797\n",
      "\n",
      "\n",
      "Regresión logística usando características de píxel en bruto:\n",
      "              precision    recall  f1-score   support\n",
      "\n",
      "           0       0.90      0.91      0.91       174\n",
      "           1       0.60      0.58      0.59       184\n",
      "           2       0.75      0.85      0.80       166\n",
      "           3       0.78      0.78      0.78       194\n",
      "           4       0.81      0.84      0.82       186\n",
      "           5       0.76      0.76      0.76       181\n",
      "           6       0.90      0.87      0.89       207\n",
      "           7       0.85      0.88      0.87       154\n",
      "           8       0.67      0.59      0.63       182\n",
      "           9       0.75      0.76      0.76       169\n",
      "\n",
      "    accuracy                           0.78      1797\n",
      "   macro avg       0.78      0.78      0.78      1797\n",
      "weighted avg       0.78      0.78      0.78      1797\n",
      "\n",
      "\n"
     ]
    }
   ],
   "source": [
    "# Entrenamiento\n",
    "# Hiper-parámetros. Estos se establecieron mediante validación \n",
    "# cruzada, utilizando un GridSearchCV. Aquí no estamos realizando \n",
    "# validación cruzada para ahorrar tiempo.\n",
    "rbm.learning_rate = 0.06                    # Medida de aprendizaje.\n",
    "rbm.n_iter = 20                             # Numero de iteraciones.\n",
    "\n",
    "# Aumentar \"components\" tienden a dar un mejor rendimiento de predicción, \n",
    "# pero tambien incrementa el tiempo de ajuste.\n",
    "rbm.n_components = 100\n",
    "logistic.C = 6000\n",
    "\n",
    "# Entrenamiento RBM-Logistic Pipeline.\n",
    "rbm_features_classifier.fit(X_train, Y_train)\n",
    "\n",
    "# Entrenando el clasificador de regresión logística directamente en el píxel.\n",
    "raw_pixel_classifier = clone(logistic)\n",
    "raw_pixel_classifier.C = 100.\n",
    "raw_pixel_classifier.fit(X_train, Y_train)\n",
    "\n",
    "# Evaluacion\n",
    "Y_pred = rbm_features_classifier.predict(X_test)\n",
    "print(\"Regresión logística usando características RBM:\\n%s\\n\" % (\n",
    "    metrics.classification_report(Y_test, Y_pred)))\n",
    "\n",
    "Y_pred = raw_pixel_classifier.predict(X_test)\n",
    "print(\"Regresión logística usando características de píxel en bruto:\\n%s\\n\" % (\n",
    "    metrics.classification_report(Y_test, Y_pred)))"
   ]
  },
  {
   "cell_type": "markdown",
   "metadata": {},
   "source": [
    "Podemos ver como avanza entre iteraciones y finalmente nos el \"accurancy\" o la exactitud con la que termina de entrenar."
   ]
  },
  {
   "cell_type": "markdown",
   "metadata": {},
   "source": [
    "# Graficamos"
   ]
  },
  {
   "cell_type": "code",
   "execution_count": 6,
   "metadata": {},
   "outputs": [
    {
     "data": {
      "image/png": "[encoded data removed]",
      "text/plain": [
       "<Figure size 302.4x288 with 100 Axes>"
      ]
     },
     "metadata": {},
     "output_type": "display_data"
    }
   ],
   "source": [
    "# Grafico\n",
    "plt.figure(figsize=(4.2, 4))\n",
    "for i, comp in enumerate(rbm.components_):\n",
    "    plt.subplot(10, 10, i + 1)\n",
    "    plt.imshow(comp.reshape((8, 8)), cmap=plt.cm.gray_r,\n",
    "               interpolation='nearest')\n",
    "    plt.xticks(())\n",
    "    plt.yticks(())\n",
    "plt.suptitle('100 componentes extraídos por RBM', fontsize=16)\n",
    "plt.subplots_adjust(0.08, 0.02, 0.92, 0.85, 0.08, 0.23)\n",
    "\n",
    "plt.show()"
   ]
  },
  {
   "cell_type": "markdown",
   "metadata": {},
   "source": [
    "Y el resultado final, imagenes generadas a partir de otras, se puede observar como de imagenes de 8x8 pixeles, se adapta la red para recrearlas."
   ]
  }
 ],
 "metadata": {
  "kernelspec": {
   "display_name": "Python 3",
   "language": "python",
   "name": "python3"
  },
  "language_info": {
   "codemirror_mode": {
    "name": "ipython",
    "version": 3
   },
   "file_extension": ".py",
   "mimetype": "text/x-python",
   "name": "python",
   "nbconvert_exporter": "python",
   "pygments_lexer": "ipython3",
   "version": "3.6.7"
  }
 },
 "nbformat": 4,
 "nbformat_minor": 1
}
