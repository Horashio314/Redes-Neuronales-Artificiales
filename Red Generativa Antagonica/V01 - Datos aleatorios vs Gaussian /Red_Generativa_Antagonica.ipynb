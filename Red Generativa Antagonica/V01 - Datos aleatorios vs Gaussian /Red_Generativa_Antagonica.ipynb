{
 "cells": [
  {
   "cell_type": "markdown",
   "metadata": {},
   "source": [
    "# Importamos la librerías"
   ]
  },
  {
   "cell_type": "code",
   "execution_count": 1,
   "metadata": {},
   "outputs": [],
   "source": [
    "#!/usr/bin/env python\n",
    "  \n",
    "\"\"\"\n",
    "Ejemplo en PyTorch Red Generativa Antagonica (GAN).\n",
    "Adaptado: https://medium.com/@devnag/generative-adversarial-\n",
    "networks-gans-in-50-lines-of-code-pytorch-e81b79659e3f#.sch4xgsa9\n",
    "\"\"\"\n",
    "\n",
    "import numpy as np\n",
    "import torch\n",
    "import torch.nn as nn\n",
    "import torch.optim as optim\n",
    "from torch.autograd import Variable\n",
    "\n",
    "matplotlib_is_available = True\n",
    "try:\n",
    "    from matplotlib import pyplot as plt\n",
    "except ImportError:\n",
    "    print(\"matplotlib no se encuentra disponible, no se mostrara el gráfico.\")\n",
    "    matplotlib_is_available = False"
   ]
  },
  {
   "cell_type": "markdown",
   "metadata": {},
   "source": [
    "# Definimos la configuracion inicial"
   ]
  },
  {
   "cell_type": "code",
   "execution_count": 2,
   "metadata": {},
   "outputs": [
    {
     "name": "stdout",
     "output_type": "stream",
     "text": [
      "Data que se usara [Solo los primeros 4 momentos]\n"
     ]
    }
   ],
   "source": [
    "# Parametros de Datos\n",
    "data_mean = 4\n",
    "data_stddev = 1.25\n",
    "\n",
    "# Descomente solo uno de estos para definir qué datos se envían \n",
    "# realmente al Discriminador.\n",
    "\"\"\" \n",
    "nombre = \"Datos en bruto\"\n",
    "preproceso = lambda datos: datos\n",
    "d_func_entrada = lambda x: x\n",
    "\"\"\"\n",
    "\"\"\"\n",
    "nombre = \"Datos y variaciones\"\n",
    "preproceso = lambda datos: decorar_diferencias(datos, 2.0)\n",
    "d_func_entrada = lambda x: x * 2\n",
    "\"\"\"\n",
    "\"\"\"\n",
    "nombre = \"Datos y diferencias\"\n",
    "preproceso = lambda datos: decorar_diferencias(datos, 1.0)\n",
    "d_func_entrada = lambda x: x * 2\n",
    "\"\"\"\n",
    "nombre = \"Solo los primeros 4 momentos\"\n",
    "preproceso = lambda datos: get_momentos(datos)\n",
    "d_func_entrada = lambda x: 4\n",
    "\n",
    "print(\"Data que se usara [%s]\" % (nombre))"
   ]
  },
  {
   "cell_type": "markdown",
   "metadata": {},
   "source": [
    "# Definimos los metodos de los datos que se utilizaran"
   ]
  },
  {
   "cell_type": "code",
   "execution_count": 3,
   "metadata": {},
   "outputs": [],
   "source": [
    "# DATOS: Datos objetivo y datos de entrada del generador.\n",
    "def get_muestra_de_distribucion(mu, sigma):\n",
    "    # Gaussian\n",
    "    return lambda n: torch.Tensor(np.random.normal(mu, sigma, (1, n)))  \n",
    "\n",
    "def get_muestra_entrada_de_distribucion():\n",
    "    # Datos uniformes de dist en el generador, _NOT_ Gaussian\n",
    "    return lambda m, n: torch.rand(m, n)  "
   ]
  },
  {
   "cell_type": "markdown",
   "metadata": {},
   "source": [
    "# Definimos el modelo"
   ]
  },
  {
   "cell_type": "code",
   "execution_count": 4,
   "metadata": {},
   "outputs": [],
   "source": [
    "# ##### Modelos: Generador y Discriminador.\n",
    "\n",
    "class Generador(nn.Module):\n",
    "    def __init__(self, tam_entrada, tam_oculta, tam_salida, func_act):\n",
    "        super(Generador, self).__init__()\n",
    "        self.map1 = nn.Linear(tam_entrada, tam_oculta)\n",
    "        self.map2 = nn.Linear(tam_oculta, tam_oculta)\n",
    "        self.map3 = nn.Linear(tam_oculta, tam_salida)\n",
    "        self.f = func_act\n",
    "\n",
    "    def forward(self, x):\n",
    "        x = self.map1(x)\n",
    "        x = self.f(x)\n",
    "        x = self.map2(x)\n",
    "        x = self.f(x)\n",
    "        x = self.map3(x)\n",
    "        return x\n",
    "\n",
    "class Discriminador(nn.Module):\n",
    "    def __init__(self, tam_entrada, tam_oculta, tam_salida, func_act):\n",
    "        super(Discriminador, self).__init__()\n",
    "        self.map1 = nn.Linear(tam_entrada, tam_oculta)\n",
    "        self.map2 = nn.Linear(tam_oculta, tam_oculta)\n",
    "        self.map3 = nn.Linear(tam_oculta, tam_salida)\n",
    "        self.f = func_act\n",
    "\n",
    "    def forward(self, x):\n",
    "        x = self.f(self.map1(x))\n",
    "        x = self.f(self.map2(x))\n",
    "        return self.f(self.map3(x))"
   ]
  },
  {
   "cell_type": "markdown",
   "metadata": {},
   "source": [
    "# Definimos los metodos de muestra de datos"
   ]
  },
  {
   "cell_type": "code",
   "execution_count": 5,
   "metadata": {},
   "outputs": [],
   "source": [
    "def extracto(v):\n",
    "    return v.data.storage().tolist()\n",
    "\n",
    "def estado(d):\n",
    "    return [np.mean(d), np.std(d)]"
   ]
  },
  {
   "cell_type": "markdown",
   "metadata": {},
   "source": [
    "# Definimos los métodos de obtención de datos"
   ]
  },
  {
   "cell_type": "code",
   "execution_count": 6,
   "metadata": {},
   "outputs": [],
   "source": [
    "def get_momentos(d):\n",
    "    # Devuelve los primeros 4 momentos de los datos proporcionados.\n",
    "    mean = torch.mean(d)\n",
    "    diffs = d - mean\n",
    "    var = torch.mean(torch.pow(diffs, 2.0))\n",
    "    std = torch.pow(var, 0.5)\n",
    "    zscores = diffs / std\n",
    "    skews = torch.mean(torch.pow(zscores, 3.0))\n",
    "\n",
    "    # exceso de kurtosis, debe ser 0 para gaussiano.\n",
    "    kurtoses = torch.mean(torch.pow(zscores, 4.0)) - 3.0\n",
    "\n",
    "    final = torch.cat((mean.reshape(1,), \n",
    "                        std.reshape(1,), \n",
    "                        skews.reshape(1,), \n",
    "                        kurtoses.reshape(1,))\n",
    "                    )\n",
    "    return final\n",
    "\n",
    "def decorar_diferencias(data, exponent, remove_raw_data=False):\n",
    "    mean = torch.mean(data.data, 1, keepdim=True)\n",
    "    mean_broadcast = torch.mul(torch.ones(data.size()), mean.tolist()[0][0])\n",
    "    diffs = torch.pow(data - Variable(mean_broadcast), exponent)\n",
    "    if remove_raw_data:\n",
    "        return torch.cat([diffs], 1)\n",
    "    else:\n",
    "        return torch.cat([data, diffs], 1)"
   ]
  },
  {
   "cell_type": "markdown",
   "metadata": {},
   "source": [
    "# Metodo de entrenamiento de la red y graficación"
   ]
  },
  {
   "cell_type": "code",
   "execution_count": 7,
   "metadata": {},
   "outputs": [],
   "source": [
    "def train():\n",
    "    # Parametros para los modelos. \n",
    "    # G o g ----> Generador\n",
    "    # D o d ----> Discriminador\n",
    "    g_tam_entrada = 1       # Tam. del vector entrada del generador.\n",
    "    g_tam_oculta = 5        # Numeros de capaz ocultas del generador.\n",
    "    g_tam_salida = 1        # Tam. del vector salida del generador.\n",
    "    d_tam_entrada = 500     # Tam. del vector entrada del discriminador.\n",
    "    d_tam_oculta = 10       # Numeros de capaz ocultas del discriminador.\n",
    "    d_tam_salida = 1        # Determina clasificación 'real' vs. 'falsa'\n",
    "    minibatch_size = d_tam_entrada  # Tam. de minibatch - cardinalidad de dist.\n",
    "\n",
    "    d_tasa_aprend = 1e-3\n",
    "    g_tasa_aprend = 1e-3\n",
    "    sgd_momentum = 0.9\n",
    "\n",
    "    num_epochs = 5000\n",
    "    intervalos_impresion = 1000\n",
    "    d_pasos = 20\n",
    "    g_pasos = 20\n",
    "\n",
    "    dfe, dre, ge = 0, 0, 0\n",
    "    d_datos_reales, d_data_falsa, g_data_falsa = None, None, None\n",
    "\n",
    "    discriminador_func_activacion = torch.sigmoid\n",
    "    generador_func_activacion = torch.tanh\n",
    "\n",
    "    d_muestra = get_muestra_de_distribucion(data_mean, data_stddev)\n",
    "    g_muestra_entrada = get_muestra_entrada_de_distribucion()\n",
    "\n",
    "    G = Generador(tam_entrada=g_tam_entrada,\n",
    "                  tam_oculta=g_tam_oculta,\n",
    "                  tam_salida=g_tam_salida,\n",
    "                  func_act=generador_func_activacion)\n",
    "    \n",
    "    D = Discriminador(tam_entrada=d_func_entrada(d_tam_entrada),\n",
    "                      tam_oculta=d_tam_oculta,\n",
    "                      tam_salida=d_tam_salida,\n",
    "                      func_act=discriminador_func_activacion)\n",
    "    \n",
    "    # Binary cross entropy: http://pytorch.org/docs/nn.html#bceloss\n",
    "    criterio = nn.BCELoss()  \n",
    "    \n",
    "    d_optimizador = optim.SGD(D.parameters(), \n",
    "                              lr=d_tasa_aprend, \n",
    "                              momentum=sgd_momentum)\n",
    "    g_optimizador = optim.SGD(G.parameters(), \n",
    "                              lr=g_tasa_aprend, \n",
    "                              momentum=sgd_momentum)\n",
    "\n",
    "    for epoch in range(num_epochs):\n",
    "        for d_index in range(d_pasos):\n",
    "            # 1. Entrenar D con real+falsa\n",
    "            D.zero_grad()\n",
    "\n",
    "            #  1A: Entrenar D con real\n",
    "            d_datos_reales = Variable(d_muestra(d_tam_entrada))\n",
    "            d_decision_real = D(preproceso(d_datos_reales))\n",
    "            # Uno = true\n",
    "            d_error_real = criterio(d_decision_real, Variable(torch.ones([1])))  \n",
    "            # Calculo de gradientes, Pero sin cambio de parametros \n",
    "            d_error_real.backward() \n",
    "\n",
    "            #  1B: Entrenar D con falsa\n",
    "            d_entrada_g = Variable(g_muestra_entrada(minibatch_size, g_tam_entrada))\n",
    "            # Desprenderse para evitar entrenar a G en estas etiquetas.\n",
    "            d_data_falsa = G(d_entrada_g).detach()  \n",
    "            d_decision_falsa = D(preproceso(d_data_falsa.t()))\n",
    "            # Cero = False\n",
    "            d_error_falso = criterio(d_decision_falsa, Variable(torch.zeros([1])))  \n",
    "            d_error_falso.backward()\n",
    "            \n",
    "            # Solo optimiza los parámetros de D; \n",
    "            # cambios basados en gradientes almacenados de backward()\n",
    "            d_optimizador.step()     \n",
    "\n",
    "            dre, dfe = extracto(d_error_real)[0], extracto(d_error_falso)[0]\n",
    "\n",
    "        for g_index in range(g_pasos):\n",
    "            # 2. Entrenar G con la respuesta de D (Pero no con las etiquetas de D)\n",
    "            G.zero_grad()\n",
    "\n",
    "            entrada_g = Variable(g_muestra_entrada(minibatch_size, g_tam_entrada))\n",
    "            g_data_falsa = G(entrada_g)\n",
    "            dg_decision_falsa = D(preproceso(g_data_falsa.t()))\n",
    "\n",
    "            # Entrenar G pretendiendo que es genuino\n",
    "            g_error = criterio(dg_decision_falsa, Variable(torch.ones([1])))  \n",
    "\n",
    "            g_error.backward()\n",
    "            g_optimizador.step()  # Optimizar solo parametros de G\n",
    "            ge = extracto(g_error)[0]\n",
    "\n",
    "        if epoch % intervalos_impresion == 0:\n",
    "            print(\"\"\"Epoch %s: D (%s error_real, %s error_falso)\n",
    "            G (%s error);\n",
    "            Dist Real (%s),\n",
    "            Dist Falsa (%s)\"\"\" %\n",
    "                  (epoch, dre, dfe, \n",
    "                   ge, \n",
    "                   estado(extracto(d_datos_reales)), \n",
    "                   estado(extracto(d_data_falsa))))\n",
    "\n",
    "    if matplotlib_is_available:\n",
    "        print(\"Graficando Distribucion generada...\")\n",
    "        values = extracto(g_data_falsa)\n",
    "        #print(\" Valores: %s\" % (str(values)))\n",
    "        plt.hist(values, bins=50)\n",
    "        plt.xlabel('Valores')\n",
    "        plt.ylabel('Cantidad')\n",
    "        plt.title('Histograma de Distribucion Generada')\n",
    "        plt.grid(True)\n",
    "        plt.show()"
   ]
  },
  {
   "cell_type": "markdown",
   "metadata": {},
   "source": [
    "# Menu principal"
   ]
  },
  {
   "cell_type": "code",
   "execution_count": 8,
   "metadata": {
    "scrolled": false
   },
   "outputs": [
    {
     "name": "stdout",
     "output_type": "stream",
     "text": [
      "Epoch 0: D (0.6006104946136475 error_real, 0.7964677214622498 error_falso)\n",
      "            G (0.6009078621864319 error);\n",
      "            Dist Real ([3.986403957366943, 1.2583828840606366]),\n",
      "            Dist Falsa ([-0.15931420877575875, 0.010723767704693661])\n",
      "Epoch 1000: D (0.6831129193305969 error_real, 0.6997002959251404 error_falso)\n",
      "            G (0.6932072639465332 error);\n",
      "            Dist Real ([4.023943076461554, 1.2723253756304074]),\n",
      "            Dist Falsa ([4.000200130462646, 1.3638218200651904])\n",
      "Epoch 2000: D (0.7070448994636536 error_real, 0.6926671266555786 error_falso)\n",
      "            G (0.6952601671218872 error);\n",
      "            Dist Real ([3.97329869556427, 1.2461586461715577]),\n",
      "            Dist Falsa ([3.985973516225815, 1.3420971032692766])\n",
      "Epoch 3000: D (0.6919887661933899 error_real, 0.6913560032844543 error_falso)\n",
      "            G (0.6894882917404175 error);\n",
      "            Dist Real ([4.112150792479515, 1.2782857104125396]),\n",
      "            Dist Falsa ([4.017712101936341, 1.2052934523529384])\n",
      "Epoch 4000: D (0.676415741443634 error_real, 0.6961309313774109 error_falso)\n",
      "            G (0.6880309581756592 error);\n",
      "            Dist Real ([3.991313323378563, 1.1766446334416156]),\n",
      "            Dist Falsa ([3.998836339712143, 1.137698294922753])\n",
      "Graficando Distribucion generada...\n"
     ]
    },
    {
     "data": {
      "image/png": "[encoded data removed]",
      "text/plain": [
       "<Figure size 432x288 with 1 Axes>"
      ]
     },
     "metadata": {
      "needs_background": "light"
     },
     "output_type": "display_data"
    }
   ],
   "source": [
    "if __name__ == \"__main__\":\n",
    "    train()"
   ]
  }
 ],
 "metadata": {
  "kernelspec": {
   "display_name": "RNA virtual env",
   "language": "python",
   "name": "ambiente_rna"
  },
  "language_info": {
   "codemirror_mode": {
    "name": "ipython",
    "version": 3
   },
   "file_extension": ".py",
   "mimetype": "text/x-python",
   "name": "python",
   "nbconvert_exporter": "python",
   "pygments_lexer": "ipython3",
   "version": "3.6.7"
  }
 },
 "nbformat": 4,
 "nbformat_minor": 2
}
