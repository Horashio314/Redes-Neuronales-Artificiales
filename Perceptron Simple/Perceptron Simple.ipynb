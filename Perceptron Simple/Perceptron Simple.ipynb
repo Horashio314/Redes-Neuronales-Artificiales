{
 "cells": [
  {
   "cell_type": "markdown",
   "metadata": {},
   "source": [
    "# Importamos las librerias necesarias"
   ]
  },
  {
   "cell_type": "code",
   "execution_count": 5,
   "metadata": {},
   "outputs": [],
   "source": [
    "#!/usr/bin/env python3\n",
    "# coding: utf-8\n",
    "\n",
    "# # Importar librerías\n",
    "from pylab import rand, plot, show, norm"
   ]
  },
  {
   "cell_type": "markdown",
   "metadata": {},
   "source": [
    "# Definimos la clase Perceptron"
   ]
  },
  {
   "cell_type": "code",
   "execution_count": 6,
   "metadata": {},
   "outputs": [],
   "source": [
    "# # Clase Perceptron\n",
    "class Perceptron:\n",
    "    \"\"\"\n",
    "    Perceptron Simple\n",
    "\n",
    "    Parametros:\n",
    "        w_: array-1d\n",
    "            Pesos actualizados después del ajuste.\n",
    "            \n",
    "        tasaApren_: float\n",
    "            Tasa de aprendizaje.\n",
    "    \"\"\"\n",
    "    def __init__(self, w_= rand(2)*2-1, tasaApren_ = 0.1):\n",
    "        \"\"\" \n",
    "        Metodo constructor del preceptron, \n",
    "        inicialza los valores por defecto.\n",
    "        \"\"\"\n",
    "        self.w = w_                         # Vector w, representa los pesos.\n",
    "        self.tasaApren = tasaApren_         # Tasa de aprendizaje.\n",
    "\n",
    "    def respuesta(self, x):\n",
    "        \"\"\" \n",
    "        Salida del perceptron, aplica el producto punto entre w (pesos) y x (data).\n",
    "        \n",
    "        Parametros:\n",
    "            x: list, forma [coordenada x, coordenada y]\n",
    "                Data que se esta analizando.\n",
    "\n",
    "        Retorna:\n",
    "            int: Si el producto punto es mayor o igual a cero devuelve '1' de lo contrario '-1'\n",
    "        \"\"\"\n",
    "        y = (x[0] * self.w[0]) + (x[1] * self.w[1])     # Producto punto entre w y x.\n",
    "\n",
    "        if y >= 0:\n",
    "            return 1\n",
    "        else:\n",
    "            return -1\n",
    "\n",
    "    def actualizarPesos(self, x, error):\n",
    "        \"\"\"\n",
    "        Metodo encargado de actualizar el valor de los pesos en el vector w:        \n",
    "            w(t+1) = w(t) + (tasaApren * error * x)\n",
    "            \n",
    "            Donde:\n",
    "                w(t+1): Es el peso para la siguiente iteracion de aprendizaje.\n",
    "                w(t): Es el peso para la iteracion actual de aprendizaje.\n",
    "                tasaApren: Tasa de aprendizaje.\n",
    "                error: (respuesta deseada) - (respuesta del perceptron).\n",
    "                x: Coordenada actual.\n",
    "\n",
    "        Parametros:\n",
    "            x: list, forma [coordenada x, coordenada y]\n",
    "                Data que se esta analizando.\n",
    "        \"\"\"\n",
    "        self.w[0] += self.tasaApren * error * x[0]\n",
    "        self.w[1] += self.tasaApren * error * x[1]\n",
    "\n",
    "    def entrenamiento(self, data):\n",
    "        \"\"\"\n",
    "        Metodo encargado de entrenar el perceptron simple, el vector en los datos, cada vector en los datos debe tener 3 elementos,\n",
    "        el tercer elemento (x[2]) debe ser etiquetado (salida deseada)\n",
    "\n",
    "        Parametros:\n",
    "            data: list, forma [[x1, y1, resp1], [x2, y2, resp2], ... , [xn, yn, respn]]\n",
    "                Vector con los datos, cada uno debe tener la forma, coordenada x, coordenada y e respuesta deseada.\n",
    "        \"\"\"\n",
    "        aprendio = False                        # Determina si el perceptron aprendio segun el criterio.\n",
    "        iteracion = 0                           # Nunero de iteracion que le tomo al perceptron aprender.\n",
    "\n",
    "        while not aprendio:                     # Mientras no aprenda.\n",
    "            globalError = 0.0                   # Mantiene el error general que se va obteniendo el aprendizaje.            \n",
    "\n",
    "            for x in data:                      # Recorremos los datos.\n",
    "                r = self.respuesta(x)           # Obtenemos la respuesta del perceptron sobre dato.\n",
    "\n",
    "                if x[2] != r:                           # Si la respuesta no es la deseada.\n",
    "                    error = x[2] - r                    # El error en la iteracion se actualiza a: respuesta deseada - respuesta obtenida.\n",
    "                    self.actualizarPesos(x, error)      # Se actualiza los pesos con el dato y el error de la iteracion.\n",
    "                    globalError += abs(error)           # Se actualiza el error general del perceptron.\n",
    "            \n",
    "            iteracion += 1                              # Se contabiliza la iteracion para el criterio de aprendizaje.\n",
    "\n",
    "            if globalError == 0.0 or iteracion >= 100:      # Criterio de salida: si el error general es 0, o la iteracion de apredndizaje sobre el 100.\n",
    "                print(\"Iteraciones {}\".format(iteracion))   # Se imprime las iteraciones necesarias para aprender.\n",
    "                aprendio = True                             # Salida del perceptron."
   ]
  },
  {
   "cell_type": "markdown",
   "metadata": {},
   "source": [
    "# Definimos el metodo para generar los datos de prueba."
   ]
  },
  {
   "cell_type": "code",
   "execution_count": 7,
   "metadata": {},
   "outputs": [],
   "source": [
    "def datosGenerados(n):\n",
    "    \"\"\"\n",
    "    Metodo encargado de generar un conjunto de datos de prueba, linealmente separables, \n",
    "    con la siguiente forma:\n",
    "        [[x1, y1, resp1], [x2, y2, resp2], ... , [xn, yn, respn]]\n",
    "\n",
    "        Donde:\n",
    "            xn: Representa la coordenada X.\n",
    "            yn: Representa la coordenada Y.\n",
    "            respn: Representa la etiqueta de la muestra.\n",
    "\n",
    "    Parametros:\n",
    "        n: int\n",
    "            Numero de datos que se desea generar.\n",
    "\n",
    "    Retorna:\n",
    "        list: Lista con los datos con la siguiente forma: \n",
    "            [[x1, y1, resp1], [x2, y2, resp2], ... , [xn, yn, respn]]\n",
    "    \"\"\"\n",
    "    xb = (rand(n)*2-1)/2-0.5\n",
    "    yb = (rand(n)*2-1)/2+0.5\n",
    "    xr = (rand(n)*2-1)/2+0.5\n",
    "    yr = (rand(n)*2-1)/2-0.5\n",
    "    datos = []\n",
    "        \n",
    "    for i in range(len(xb)):\n",
    "        datos.append([xb[i],yb[i],1])\n",
    "        datos.append([xr[i],yr[i],-1])\n",
    "        \n",
    "    return datos"
   ]
  },
  {
   "cell_type": "markdown",
   "metadata": {},
   "source": [
    "# Finalmente definimos el main para probar el Perceptron"
   ]
  },
  {
   "cell_type": "code",
   "execution_count": 8,
   "metadata": {},
   "outputs": [
    {
     "name": "stdout",
     "output_type": "stream",
     "text": [
      "Iteraciones 2\n"
     ]
    },
    {
     "data": {
      "image/png": "[encoded data removed]",
      "text/plain": [
       "<Figure size 432x288 with 1 Axes>"
      ]
     },
     "metadata": {
      "needs_background": "light"
     },
     "output_type": "display_data"
    }
   ],
   "source": [
    "if __name__ == \"__main__\":\n",
    "    datosEntrenamiento = datosGenerados(30)             # Se genera los datos de prueba con los que entrenara el perceptron.\n",
    "    perceptron = Perceptron()                           # Se instancia del perceptron.\n",
    "    perceptron.entrenamiento(datosEntrenamiento)        # Se entrena el perceptron con los datos de prueba.\n",
    "    datosPrueba = datosGenerados(20)                    # Se genera los datos con los que probara el perceptron.\n",
    "\n",
    "    # Se prueba el perceptron con los datos de prueba.\n",
    "    for x in datosPrueba:                               # Se recorre los datos de prueba.\n",
    "        r = perceptron.respuesta(x)                     # Obtenemos la respuesta del perceptron.\n",
    "    \n",
    "        if r != x[2]:                                   # Verificamos si la respuesta no es correcta.  \n",
    "            print ('error')                             # Si no es correcta, imprimimos 'error', no se agrega el punto a la grafica.\n",
    "        if r == 1:                                      \n",
    "            plot(x[0],x[1],'ob')                        # Si la respuesta es 1, lo pintamos de azul.\n",
    "        else:\n",
    "            plot(x[0],x[1],'or')                        # De lo contrario, lo pintamos de rojo.\n",
    "\n",
    "    # Se gráfica una línea de separación, la cual es ortogonal a w.\n",
    "    n = norm(perceptron.w)\n",
    "    ww = perceptron.w/n\n",
    "    ww1 = [ww[1],-ww[0]]\n",
    "    ww2 = [-ww[1],ww[0]]\n",
    "    plot([ww1[0], ww2[0]],[ww1[1], ww2[1]],'--k')\n",
    "    show()"
   ]
  },
  {
   "cell_type": "markdown",
   "metadata": {},
   "source": [
    "Los puntos azules representan los datos de la primera clase, y los puntos rojos a la segunda, estos son los datos de pruebas que generamos para probar el perceptron, y la linea punteada es la linea de separacion que aprendio el perceptron durante el entrenamiento."
   ]
  },
  {
   "cell_type": "code",
   "execution_count": null,
   "metadata": {},
   "outputs": [],
   "source": []
  }
 ],
 "metadata": {
  "kernelspec": {
   "display_name": "Python 3",
   "language": "python",
   "name": "python3"
  },
  "language_info": {
   "codemirror_mode": {
    "name": "ipython",
    "version": 3
   },
   "file_extension": ".py",
   "mimetype": "text/x-python",
   "name": "python",
   "nbconvert_exporter": "python",
   "pygments_lexer": "ipython3",
   "version": "3.6.7"
  }
 },
 "nbformat": 4,
 "nbformat_minor": 2
}
